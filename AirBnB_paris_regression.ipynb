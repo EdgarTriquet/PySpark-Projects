{
  "nbformat": 4,
  "nbformat_minor": 0,
  "metadata": {
    "application/vnd.databricks.v1+notebook": {
      "notebookName": "Spark-RDD-2021_solutions",
      "dashboards": [],
      "notebookMetadata": {
        "pythonIndentUnit": 2
      },
      "language": "python",
      "widgets": {},
      "notebookOrigID": 2832703719774903
    },
    "colab": {
      "name": "AirBnB paris regression",
      "provenance": [],
      "collapsed_sections": [],
      "include_colab_link": true
    },
    "language_info": {
      "name": "python"
    },
    "kernelspec": {
      "name": "python3",
      "display_name": "Python 3"
    }
  },
  "cells": [
    {
      "cell_type": "markdown",
      "metadata": {
        "id": "view-in-github",
        "colab_type": "text"
      },
      "source": [
        "<a href=\"https://colab.research.google.com/github/EdgarTriquet/PySpark-Projects/blob/main/AirBnB_paris_regression.ipynb\" target=\"_parent\"><img src=\"https://colab.research.google.com/assets/colab-badge.svg\" alt=\"Open In Colab\"/></a>"
      ]
    },
    {
      "cell_type": "markdown",
      "metadata": {
        "id": "XzEVmTXWQq-n"
      },
      "source": [
        "# Predicting the Price of Airbnb in Paris\n",
        "\n"
      ]
    },
    {
      "cell_type": "markdown",
      "metadata": {
        "application/vnd.databricks.v1+cell": {
          "title": "",
          "showTitle": false,
          "inputWidgets": {},
          "nuid": "b15737ae-19bd-4b9f-b9f3-52388cc5e50e"
        },
        "id": "levNDESpS1hT"
      },
      "source": [
        "\n",
        "## Préparation"
      ]
    },
    {
      "cell_type": "markdown",
      "metadata": {
        "id": "CEjerqQ6Ink6"
      },
      "source": [
        "Pour accéder directement aux fichiers stockées sur le google drive. Renseigner le code d'authentification lorsqu'il est demandé\n",
        "\n",
        "Ajuster le nom de votre dossier : MyDrive/ens/bdle/dir. **Remplacer dir **"
      ]
    },
    {
      "cell_type": "code",
      "metadata": {
        "id": "g7Dv93rsImuM",
        "colab": {
          "base_uri": "https://localhost:8080/"
        },
        "outputId": "cd5b8be1-9fc6-4982-9bde-bb35c8a881b0"
      },
      "source": [
        "import os\n",
        "from google.colab import drive\n",
        "drive.mount(\"/content/drive\", force_remount=True)\n",
        "\n",
        "drive_dir = \"/content/drive/MyDrive/ens/bdle/dir\"\n",
        "os.makedirs(drive_dir, exist_ok=True)\n",
        "os.listdir(drive_dir)"
      ],
      "execution_count": 7,
      "outputs": [
        {
          "output_type": "stream",
          "name": "stdout",
          "text": [
            "Mounted at /content/drive\n"
          ]
        },
        {
          "output_type": "execute_result",
          "data": {
            "text/plain": [
              "[]"
            ]
          },
          "metadata": {},
          "execution_count": 7
        }
      ]
    },
    {
      "cell_type": "markdown",
      "metadata": {
        "id": "7v9EXMl8aPZC"
      },
      "source": [
        "Installer pyspark et findspark :\n"
      ]
    },
    {
      "cell_type": "code",
      "metadata": {
        "id": "3zlwNHy1S8C2",
        "colab": {
          "base_uri": "https://localhost:8080/"
        },
        "outputId": "e12b9bdb-eddf-465c-cd90-747623ed4e5c"
      },
      "source": [
        "!pip install -q pyspark\n",
        "!pip install -q findspark"
      ],
      "execution_count": null,
      "outputs": [
        {
          "output_type": "stream",
          "name": "stdout",
          "text": [
            "\u001b[K     |████████████████████████████████| 281.3 MB 28 kB/s \n",
            "\u001b[K     |████████████████████████████████| 198 kB 43.5 MB/s \n",
            "\u001b[?25h  Building wheel for pyspark (setup.py) ... \u001b[?25l\u001b[?25hdone\n"
          ]
        }
      ]
    },
    {
      "cell_type": "markdown",
      "metadata": {
        "id": "PnEmOd_zOUo0"
      },
      "source": [
        "Démarrer la session spark"
      ]
    },
    {
      "cell_type": "code",
      "metadata": {
        "id": "W0ADH0J-VW7i"
      },
      "source": [
        "import os\n",
        "# !find /usr/local -name \"pyspark\"\n",
        "os.environ[\"SPARK_HOME\"] = \"/usr/local/lib/python3.7/dist-packages/pyspark\"\n",
        "os.environ[\"JAVA_HOME\"] = \"/usr\""
      ],
      "execution_count": 8,
      "outputs": []
    },
    {
      "cell_type": "code",
      "metadata": {
        "id": "Q_WxQZB7TaUC",
        "colab": {
          "base_uri": "https://localhost:8080/"
        },
        "outputId": "4c47160b-dfe5-4b9c-937d-2320723e97dd"
      },
      "source": [
        "# Principaux import\n",
        "import findspark\n",
        "from pyspark.sql import SparkSession \n",
        "from pyspark import SparkConf  \n",
        "\n",
        "# pour les dataframe et udf\n",
        "from pyspark.sql import *  \n",
        "from pyspark.sql.functions import *\n",
        "from pyspark.sql.types import *\n",
        "from datetime import *\n",
        "\n",
        "# pour le chronomètre\n",
        "import time\n",
        "\n",
        "# initialise les variables d'environnement pour spark\n",
        "findspark.init()\n",
        "\n",
        "# Démarrage session spark \n",
        "# --------------------------\n",
        "def demarrer_spark():\n",
        "  local = \"local[*]\"\n",
        "  appName = \"TP\"\n",
        "  configLocale = SparkConf().setAppName(appName).setMaster(local).\\\n",
        "  set(\"spark.executor.memory\", \"6G\").\\\n",
        "  set(\"spark.driver.memory\",\"6G\").\\\n",
        "  set(\"spark.sql.catalogImplementation\",\"in-memory\")\n",
        "  \n",
        "  spark = SparkSession.builder.config(conf = configLocale).getOrCreate()\n",
        "  sc = spark.sparkContext\n",
        "  sc.setLogLevel(\"ERROR\")\n",
        "  \n",
        "  spark.conf.set(\"spark.sql.autoBroadcastJoinThreshold\",\"-1\")\n",
        "\n",
        "  # On ajuste l'environnement d'exécution des requêtes à la taille du cluster (4 coeurs)\n",
        "  spark.conf.set(\"spark.sql.shuffle.partitions\",\"4\")    \n",
        "  print(\"session démarrée, son id est \", sc.applicationId)\n",
        "  return spark\n",
        "spark = demarrer_spark()"
      ],
      "execution_count": 9,
      "outputs": [
        {
          "output_type": "stream",
          "name": "stdout",
          "text": [
            "session démarrée, son id est  local-1635850143664\n"
          ]
        }
      ]
    },
    {
      "cell_type": "code",
      "metadata": {
        "application/vnd.databricks.v1+cell": {
          "title": "",
          "showTitle": false,
          "inputWidgets": {},
          "nuid": "852847c4-bd45-4f9c-ae8b-2c704f389cf9"
        },
        "id": "fj9pUgrmGpLe",
        "colab": {
          "base_uri": "https://localhost:8080/"
        },
        "outputId": "25b6cb5d-b8eb-47b1-93ea-1ff622c24dac"
      },
      "source": [
        "# on utilise 8 partitions au lieu de 200 par défaut\n",
        "spark.conf.set(\"spark.sql.shuffle.partitions\", \"8\")\n",
        "print(\"Nombre de partitions utilisées : \", spark.conf.get(\"spark.sql.shuffle.partitions\"))"
      ],
      "execution_count": 10,
      "outputs": [
        {
          "output_type": "stream",
          "name": "stdout",
          "text": [
            "Nombre de partitions utilisées :  8\n"
          ]
        }
      ]
    },
    {
      "cell_type": "code",
      "metadata": {
        "id": "57R1phtMsjZ3",
        "colab": {
          "base_uri": "https://localhost:8080/"
        },
        "outputId": "460a69b1-b6b6-4bd2-d0dd-396504c7c6da"
      },
      "source": [
        "from google.colab import drive\n",
        "drive.mount('/content/drive')"
      ],
      "execution_count": 11,
      "outputs": [
        {
          "output_type": "stream",
          "name": "stdout",
          "text": [
            "Drive already mounted at /content/drive; to attempt to forcibly remount, call drive.mount(\"/content/drive\", force_remount=True).\n"
          ]
        }
      ]
    },
    {
      "cell_type": "markdown",
      "metadata": {
        "application/vnd.databricks.v1+cell": {
          "title": "",
          "showTitle": false,
          "inputWidgets": {},
          "nuid": "41dd8b8e-d697-4efb-a1d2-cd34a08b3e7e"
        },
        "id": "NtjUaom1_2bC"
      },
      "source": [
        "## Data loading"
      ]
    },
    {
      "cell_type": "code",
      "metadata": {
        "colab": {
          "base_uri": "https://localhost:8080/",
          "height": 17
        },
        "id": "kLoCAmgApeBL",
        "outputId": "dff8c222-2740-4b7a-c1fe-ed8dc62ff31d"
      },
      "source": [
        "from google.colab import files\n",
        "#upload to session storage the cvs file\n",
        "files.download('listings_summary.csv')"
      ],
      "execution_count": 12,
      "outputs": [
        {
          "output_type": "display_data",
          "data": {
            "application/javascript": [
              "\n",
              "    async function download(id, filename, size) {\n",
              "      if (!google.colab.kernel.accessAllowed) {\n",
              "        return;\n",
              "      }\n",
              "      const div = document.createElement('div');\n",
              "      const label = document.createElement('label');\n",
              "      label.textContent = `Downloading \"${filename}\": `;\n",
              "      div.appendChild(label);\n",
              "      const progress = document.createElement('progress');\n",
              "      progress.max = size;\n",
              "      div.appendChild(progress);\n",
              "      document.body.appendChild(div);\n",
              "\n",
              "      const buffers = [];\n",
              "      let downloaded = 0;\n",
              "\n",
              "      const channel = await google.colab.kernel.comms.open(id);\n",
              "      // Send a message to notify the kernel that we're ready.\n",
              "      channel.send({})\n",
              "\n",
              "      for await (const message of channel.messages) {\n",
              "        // Send a message to notify the kernel that we're ready.\n",
              "        channel.send({})\n",
              "        if (message.buffers) {\n",
              "          for (const buffer of message.buffers) {\n",
              "            buffers.push(buffer);\n",
              "            downloaded += buffer.byteLength;\n",
              "            progress.value = downloaded;\n",
              "          }\n",
              "        }\n",
              "      }\n",
              "      const blob = new Blob(buffers, {type: 'application/binary'});\n",
              "      const a = document.createElement('a');\n",
              "      a.href = window.URL.createObjectURL(blob);\n",
              "      a.download = filename;\n",
              "      div.appendChild(a);\n",
              "      a.click();\n",
              "      div.remove();\n",
              "    }\n",
              "  "
            ],
            "text/plain": [
              "<IPython.core.display.Javascript object>"
            ]
          },
          "metadata": {}
        },
        {
          "output_type": "display_data",
          "data": {
            "application/javascript": [
              "download(\"download_8dff98db-21a0-4c65-b213-133557cea4a8\", \"listings_summary.csv\", 7533305)"
            ],
            "text/plain": [
              "<IPython.core.display.Javascript object>"
            ]
          },
          "metadata": {}
        }
      ]
    },
    {
      "cell_type": "code",
      "metadata": {
        "id": "yamrKGVHxxH9"
      },
      "source": [
        "df = spark.read.option(\"header\", \"true\").csv('listings_summary.csv')"
      ],
      "execution_count": 13,
      "outputs": []
    },
    {
      "cell_type": "code",
      "metadata": {
        "id": "1FPk0PZVtckF",
        "colab": {
          "base_uri": "https://localhost:8080/"
        },
        "outputId": "14bb7b3e-516d-4c2a-ddaa-a2033c5e9f40"
      },
      "source": [
        "#Get the shape of the dataFrame\n",
        "print((df.count(), len(df.columns)))\n"
      ],
      "execution_count": 14,
      "outputs": [
        {
          "output_type": "stream",
          "name": "stdout",
          "text": [
            "(50236, 18)\n"
          ]
        }
      ]
    },
    {
      "cell_type": "code",
      "metadata": {
        "id": "yiQyGqrXtzgN",
        "colab": {
          "base_uri": "https://localhost:8080/"
        },
        "outputId": "8b3b4f29-9ffa-4b86-8e1a-09f5ed7af49d"
      },
      "source": [
        "df.columns"
      ],
      "execution_count": 15,
      "outputs": [
        {
          "output_type": "execute_result",
          "data": {
            "text/plain": [
              "['id',\n",
              " 'name',\n",
              " 'host_id',\n",
              " 'host_name',\n",
              " 'neighbourhood_group',\n",
              " 'neighbourhood',\n",
              " 'latitude',\n",
              " 'longitude',\n",
              " 'room_type',\n",
              " 'price',\n",
              " 'minimum_nights',\n",
              " 'number_of_reviews',\n",
              " 'last_review',\n",
              " 'reviews_per_month',\n",
              " 'calculated_host_listings_count',\n",
              " 'availability_365',\n",
              " 'number_of_reviews_ltm',\n",
              " 'license']"
            ]
          },
          "metadata": {},
          "execution_count": 15
        }
      ]
    },
    {
      "cell_type": "code",
      "metadata": {
        "id": "wd-ebAGnzJQk",
        "colab": {
          "base_uri": "https://localhost:8080/"
        },
        "outputId": "daf03398-93e9-483d-8bfa-dd1c57caacca"
      },
      "source": [
        "df.show(5)"
      ],
      "execution_count": 16,
      "outputs": [
        {
          "output_type": "stream",
          "name": "stdout",
          "text": [
            "+----+--------------------+-------+----------+-------------------+--------------+--------+---------+---------------+-----+--------------+-----------------+-----------+-----------------+------------------------------+----------------+---------------------+--------------------+\n",
            "|  id|                name|host_id| host_name|neighbourhood_group| neighbourhood|latitude|longitude|      room_type|price|minimum_nights|number_of_reviews|last_review|reviews_per_month|calculated_host_listings_count|availability_365|number_of_reviews_ltm|             license|\n",
            "+----+--------------------+-------+----------+-------------------+--------------+--------+---------+---------------+-----+--------------+-----------------+-----------+-----------------+------------------------------+----------------+---------------------+--------------------+\n",
            "|5396|Explore the heart...|   7903|    Borzou|               null|Hôtel-de-Ville|48.85247|  2.35835|Entire home/apt|  110|             2|              260| 2020-08-08|             2.68|                             1|              29|                   35|       7510402838018|\n",
            "|7397|MARAIS - 2ROOMS A...|   2626|    Franck|               null|Hôtel-de-Ville|48.85909|  2.35315|Entire home/apt|  100|            10|              278| 2021-08-18|             2.26|                             1|             257|                    9|       7510400829623|\n",
            "|7964|Large & sunny fla...|  22155|     Anaïs|               null|         Opéra|48.87417|  2.34245|Entire home/apt|  130|             6|                6| 2015-09-14|             0.07|                             1|             348|                    0|       7510903576564|\n",
            "|9359|Cozy, Central Par...|  28422|Bernadette|               null|        Louvre|48.86006|  2.34863|Entire home/apt|   75|           180|                0|       null|             null|                             1|              28|                    0|\"Available with a...|\n",
            "|9952|Paris petit coin ...|  33534| Elisabeth|               null|    Popincourt|48.86373|  2.37093|Entire home/apt|   80|             4|               31| 2021-06-23|             0.50|                             1|             198|                    6|       7511101582862|\n",
            "+----+--------------------+-------+----------+-------------------+--------------+--------+---------+---------------+-----+--------------+-----------------+-----------+-----------------+------------------------------+----------------+---------------------+--------------------+\n",
            "only showing top 5 rows\n",
            "\n"
          ]
        }
      ]
    },
    {
      "cell_type": "markdown",
      "metadata": {
        "id": "g7Rq0DpO2hBc"
      },
      "source": [
        "Several columns seem to be unrelevant for our task so I decided to drop them from the database"
      ]
    },
    {
      "cell_type": "code",
      "metadata": {
        "id": "ZRuCLJW4ehni"
      },
      "source": [
        "df = df.drop(\"license\", \"id\", \"name\", \"host_name\", \"host_id\", \"longitude\", \"latitude\")"
      ],
      "execution_count": 17,
      "outputs": []
    },
    {
      "cell_type": "markdown",
      "metadata": {
        "id": "XoFZD15Wwus6"
      },
      "source": [
        "Let's have a look at what are the data type"
      ]
    },
    {
      "cell_type": "code",
      "metadata": {
        "id": "0-Pfbr9Y1DER",
        "colab": {
          "base_uri": "https://localhost:8080/"
        },
        "outputId": "4a984a8e-9f03-4508-9ff1-082e8b614bbd"
      },
      "source": [
        "df.printSchema()"
      ],
      "execution_count": 18,
      "outputs": [
        {
          "output_type": "stream",
          "name": "stdout",
          "text": [
            "root\n",
            " |-- neighbourhood_group: string (nullable = true)\n",
            " |-- neighbourhood: string (nullable = true)\n",
            " |-- room_type: string (nullable = true)\n",
            " |-- price: string (nullable = true)\n",
            " |-- minimum_nights: string (nullable = true)\n",
            " |-- number_of_reviews: string (nullable = true)\n",
            " |-- last_review: string (nullable = true)\n",
            " |-- reviews_per_month: string (nullable = true)\n",
            " |-- calculated_host_listings_count: string (nullable = true)\n",
            " |-- availability_365: string (nullable = true)\n",
            " |-- number_of_reviews_ltm: string (nullable = true)\n",
            "\n"
          ]
        }
      ]
    },
    {
      "cell_type": "markdown",
      "metadata": {
        "id": "-M7tGywvw7Oz"
      },
      "source": [
        "We need to change the dataTypes of some fields in order to analyse them\n"
      ]
    },
    {
      "cell_type": "code",
      "metadata": {
        "id": "MD9e_PIYCGuN"
      },
      "source": [
        "df = df.select(df.neighbourhood,\n",
        "df.room_type,\n",
        "df.minimum_nights.cast(\"int\"),\n",
        "df.number_of_reviews.cast(\"int\"),\n",
        "df.last_review.cast(\"date\"),\n",
        "df.reviews_per_month.cast(\"int\"),\n",
        "df.calculated_host_listings_count.cast(\"int\"),\n",
        "df.availability_365.cast(\"int\"),\n",
        "df.number_of_reviews_ltm.cast(\"int\"),\n",
        "df.price.cast(\"int\")\n",
        ")"
      ],
      "execution_count": 19,
      "outputs": []
    },
    {
      "cell_type": "markdown",
      "metadata": {
        "id": "GnBnPNXztawu"
      },
      "source": [
        "Let's check if there are null values in the dataset "
      ]
    },
    {
      "cell_type": "code",
      "metadata": {
        "id": "CdKO_q-E3mdV",
        "colab": {
          "base_uri": "https://localhost:8080/"
        },
        "outputId": "e7a34fcd-8b05-4650-e955-74566d0cbba6"
      },
      "source": [
        "for col in df.columns:\n",
        "  print(col, \"\\t\", \"with null values: \", df.filter(df[col].isNull()).count())"
      ],
      "execution_count": 20,
      "outputs": [
        {
          "output_type": "stream",
          "name": "stdout",
          "text": [
            "neighbourhood \t with null values:  118\n",
            "room_type \t with null values:  106\n",
            "minimum_nights \t with null values:  107\n",
            "number_of_reviews \t with null values:  198\n",
            "last_review \t with null values:  11614\n",
            "reviews_per_month \t with null values:  11515\n",
            "calculated_host_listings_count \t with null values:  109\n",
            "availability_365 \t with null values:  105\n",
            "number_of_reviews_ltm \t with null values:  199\n",
            "price \t with null values:  120\n"
          ]
        }
      ]
    },
    {
      "cell_type": "markdown",
      "metadata": {
        "id": "nqIuK48q32Dc"
      },
      "source": [
        "With those information, we can add modification to the dataset :\n",
        "\n",
        "*   neighbourhood_group is always null so we drop it\n",
        "*   replace number_of_review, number_of_reviews_ltm and reviews_per_month null fields by zero \n",
        "*   replace last_review null field by the oldest date\n",
        "\n",
        "In order to perform well a decision tree algorithm, we need to only have string and int value. We chosed to replace the date of the last review with the number of day since the last review. It keeps the same information."
      ]
    },
    {
      "cell_type": "code",
      "metadata": {
        "id": "mZDnqeBE5plW",
        "colab": {
          "base_uri": "https://localhost:8080/"
        },
        "outputId": "bc671777-8f29-4c9b-8426-6b85e698323e"
      },
      "source": [
        "df = df.drop(\"neighbourhood_group\")\n",
        "min_date = df.select(min(df.last_review).cast(\"string\")).first()[0]#the date will be converted automatically with the na.fill function\n",
        "df = df.na.fill({'last_review': min_date, 'neighbourhood': 'unknown', 'reviews_per_month': 0, 'number_of_reviews_ltm': 0, 'room_type': 'unknown', 'number_of_reviews': 0})##Problem null value is considered as string.\n",
        "df = df.na.drop()#drop rows where it remains null value\n",
        "df = df.withColumn('date_diff', datediff(current_date(),df.last_review)) \n",
        "df = df.drop('last_review')\n",
        "\n",
        "print((df.count(), len(df.columns)))"
      ],
      "execution_count": 21,
      "outputs": [
        {
          "output_type": "stream",
          "name": "stdout",
          "text": [
            "(50112, 10)\n"
          ]
        }
      ]
    },
    {
      "cell_type": "markdown",
      "metadata": {
        "id": "DZg-KELyVucr"
      },
      "source": [
        "Let's set up some baselines in order to evaluate our future model.\n",
        "The first simple model can be to predict the mean price for every room."
      ]
    },
    {
      "cell_type": "code",
      "metadata": {
        "id": "fDYkCaWzt96W",
        "colab": {
          "base_uri": "https://localhost:8080/"
        },
        "outputId": "b6858724-c192-4aa9-a6b7-8ee9a6bcc94c"
      },
      "source": [
        "df.select(df.price.alias('prices')).describe().show()"
      ],
      "execution_count": 22,
      "outputs": [
        {
          "output_type": "stream",
          "name": "stdout",
          "text": [
            "+-------+------------------+\n",
            "|summary|            prices|\n",
            "+-------+------------------+\n",
            "|  count|             50112|\n",
            "|   mean|125.91143837803321|\n",
            "| stddev|218.81595819082617|\n",
            "|    min|                 0|\n",
            "|    max|             11600|\n",
            "+-------+------------------+\n",
            "\n"
          ]
        }
      ]
    },
    {
      "cell_type": "code",
      "metadata": {
        "id": "PkErWZVKUXg_",
        "colab": {
          "base_uri": "https://localhost:8080/"
        },
        "outputId": "0bf6c139-c8bb-4ae0-a2e8-68eadf92ee56"
      },
      "source": [
        "import numpy as np\n",
        "from sklearn.metrics import mean_absolute_error, mean_squared_error\n",
        "\n",
        "price_list=[data[0] for data in df.\n",
        "       select('price').collect()]\n",
        "mean = np.mean(price_list)\n",
        "\n",
        "mean_price = df.select(df.price).count()*[mean]\n",
        "print(\"MAE = \",mean_absolute_error(price_list, mean_price))\n",
        "print(\"RMSE = \", np.sqrt(mean_squared_error(price_list, mean_price)))\n"
      ],
      "execution_count": 23,
      "outputs": [
        {
          "output_type": "stream",
          "name": "stdout",
          "text": [
            "MAE =  76.51989046610942\n",
            "RMSE =  218.81377491087522\n"
          ]
        }
      ]
    },
    {
      "cell_type": "markdown",
      "metadata": {
        "id": "fTfL6TwBU5eB"
      },
      "source": [
        "The vast majority of prices are under 300€. The prices above this can be considered as outliers to remove them."
      ]
    },
    {
      "cell_type": "code",
      "metadata": {
        "id": "IFfS6qcGUfDS",
        "colab": {
          "base_uri": "https://localhost:8080/",
          "height": 402
        },
        "outputId": "661c06bf-52b6-49c4-b0bc-a7c3b9ab5820"
      },
      "source": [
        "import matplotlib.pyplot as plt\n",
        "\n",
        "plt.boxplot(price_list)"
      ],
      "execution_count": 24,
      "outputs": [
        {
          "output_type": "execute_result",
          "data": {
            "text/plain": [
              "{'boxes': [<matplotlib.lines.Line2D at 0x7fc016e16210>],\n",
              " 'caps': [<matplotlib.lines.Line2D at 0x7fc016e2c2d0>,\n",
              "  <matplotlib.lines.Line2D at 0x7fc016e2c810>],\n",
              " 'fliers': [<matplotlib.lines.Line2D at 0x7fc016e06790>],\n",
              " 'means': [],\n",
              " 'medians': [<matplotlib.lines.Line2D at 0x7fc016e2cd90>],\n",
              " 'whiskers': [<matplotlib.lines.Line2D at 0x7fc016e16810>,\n",
              "  <matplotlib.lines.Line2D at 0x7fc016e16d50>]}"
            ]
          },
          "metadata": {},
          "execution_count": 24
        },
        {
          "output_type": "display_data",
          "data": {
            "image/png": "[encoded data removed]",
            "text/plain": [
              "<Figure size 432x288 with 1 Axes>"
            ]
          },
          "metadata": {
            "needs_background": "light"
          }
        }
      ]
    },
    {
      "cell_type": "markdown",
      "metadata": {
        "id": "vCclR9TV_Qy2"
      },
      "source": [
        "I decided to remove all the rows where the price was higher than 500€ per night "
      ]
    },
    {
      "cell_type": "code",
      "metadata": {
        "id": "M3KvvnFf-Slc"
      },
      "source": [
        "from pyspark.sql.functions import when\n",
        "df_filt = df.withColumn('Result',when(df.price<=300,\"True\")).filter(\"Result==True\").drop(\"Result\")\n",
        "price_list_filt=[data[0] for data in df_filt.\n",
        "       select('price').collect()]"
      ],
      "execution_count": 27,
      "outputs": []
    },
    {
      "cell_type": "code",
      "metadata": {
        "id": "75fjBHfGDiV6",
        "colab": {
          "base_uri": "https://localhost:8080/",
          "height": 401
        },
        "outputId": "2dd31956-6ec2-48fc-aebe-aea2566b0aa9"
      },
      "source": [
        "plt.boxplot(price_list_filt)"
      ],
      "execution_count": 28,
      "outputs": [
        {
          "output_type": "execute_result",
          "data": {
            "text/plain": [
              "{'boxes': [<matplotlib.lines.Line2D at 0x7fc016d46190>],\n",
              " 'caps': [<matplotlib.lines.Line2D at 0x7fc016d4c1d0>,\n",
              "  <matplotlib.lines.Line2D at 0x7fc016d4c710>],\n",
              " 'fliers': [<matplotlib.lines.Line2D at 0x7fc016d56210>],\n",
              " 'means': [],\n",
              " 'medians': [<matplotlib.lines.Line2D at 0x7fc016d4cc90>],\n",
              " 'whiskers': [<matplotlib.lines.Line2D at 0x7fc016d46710>,\n",
              "  <matplotlib.lines.Line2D at 0x7fc016d46c50>]}"
            ]
          },
          "metadata": {},
          "execution_count": 28
        },
        {
          "output_type": "display_data",
          "data": {
            "image/png": "[encoded data removed]",
            "text/plain": [
              "<Figure size 432x288 with 1 Axes>"
            ]
          },
          "metadata": {
            "needs_background": "light"
          }
        }
      ]
    },
    {
      "cell_type": "code",
      "metadata": {
        "id": "s3EOVSol_eBG",
        "colab": {
          "base_uri": "https://localhost:8080/"
        },
        "outputId": "bd6cacdf-65e2-42b4-ba13-a61219b730c2"
      },
      "source": [
        "price_list_filt=[data[0] for data in df_filt.\n",
        "       select('price').collect()]\n",
        "mean = np.mean(price_list)\n",
        "\n",
        "mean_price = df_filt.select(df_filt.price).count()*[mean]\n",
        "print(\"MAE filt= \",mean_absolute_error(price_list_filt, mean_price))\n",
        "print(\"RMSE filt= \", np.sqrt(mean_squared_error(price_list_filt, mean_price)))"
      ],
      "execution_count": 29,
      "outputs": [
        {
          "output_type": "stream",
          "name": "stdout",
          "text": [
            "MAE filt=  54.00050645717992\n",
            "RMSE filt=  62.793054651681636\n"
          ]
        }
      ]
    },
    {
      "cell_type": "markdown",
      "metadata": {
        "id": "VEHtv3zF_-Qu"
      },
      "source": [
        "The MAE hasn't changed much, but the RMSE is significantly improved, it's logical because RMSE emphasized the huge difference because of the square."
      ]
    },
    {
      "cell_type": "markdown",
      "metadata": {
        "id": "oaRHcih_an-O"
      },
      "source": [
        "## Pipeline"
      ]
    },
    {
      "cell_type": "code",
      "metadata": {
        "id": "kPG3JrQKahPB",
        "colab": {
          "base_uri": "https://localhost:8080/"
        },
        "outputId": "f8d64aa2-a101-485f-d98c-360e88e1381c"
      },
      "source": [
        "from pyspark.ml.feature import StringIndexer\n",
        "from pyspark.ml.feature import VectorAssembler\n",
        "from pyspark.ml.feature import VectorIndexer\n",
        "df = df_filt\n",
        "col_int = []\n",
        "col_str = []\n",
        "for col in df.dtypes:\n",
        "  data_type = col[1]\n",
        "  if data_type == \"string\":\n",
        "    col_str.append(col[0])\n",
        "  elif data_type == \"int\":\n",
        "    col_int.append(col[0])\n",
        "\n",
        "\n",
        "label = 'price'\n",
        "prefix = 'indexed_'\n",
        "\n",
        "col_str_indexed = list(map(lambda c:prefix+c, col_str))\n",
        "col_int.remove(label)\n",
        "features_col = col_str_indexed + col_int\n",
        "\n",
        "\n",
        "features_string_indexer = StringIndexer(inputCols=col_str,outputCols=col_str_indexed)#transform string value to index\n",
        "\n",
        "vec_assembler = VectorAssembler(inputCols= features_col,outputCol= 'vector')\n",
        "\n",
        "vec_indexer = VectorIndexer(inputCol='vector',outputCol='features' ,maxCategories=25)\n",
        "\n",
        "\n",
        "stages = [features_string_indexer,vec_assembler,vec_indexer] # stages of the pipeline\n",
        "\n",
        "from pyspark.ml import Pipeline \n",
        "\n",
        "pipeline = Pipeline(stages = stages)\n",
        "train_data = pipeline.fit(df).transform(df).select(\"features\",label)\n",
        "train_data.show(5)"
      ],
      "execution_count": 30,
      "outputs": [
        {
          "output_type": "stream",
          "name": "stdout",
          "text": [
            "+--------------------+-----+\n",
            "|            features|price|\n",
            "+--------------------+-----+\n",
            "|[15.0,0.0,2.0,260...|  110|\n",
            "|[15.0,0.0,10.0,27...|  100|\n",
            "|[7.0,0.0,6.0,6.0,...|  130|\n",
            "|[19.0,0.0,180.0,0...|   75|\n",
            "|[1.0,0.0,4.0,31.0...|   80|\n",
            "+--------------------+-----+\n",
            "only showing top 5 rows\n",
            "\n"
          ]
        }
      ]
    },
    {
      "cell_type": "code",
      "metadata": {
        "id": "M2oE3jqYIXHi",
        "colab": {
          "base_uri": "https://localhost:8080/"
        },
        "outputId": "794e872f-873d-4ffa-a761-bbec46288f62"
      },
      "source": [
        "train_data.select(train_data.features).first()"
      ],
      "execution_count": 31,
      "outputs": [
        {
          "output_type": "execute_result",
          "data": {
            "text/plain": [
              "Row(features=DenseVector([15.0, 0.0, 2.0, 260.0, 2.0, 1.0, 29.0, 35.0, 451.0]))"
            ]
          },
          "metadata": {},
          "execution_count": 31
        }
      ]
    },
    {
      "cell_type": "markdown",
      "metadata": {
        "id": "W4nLa0cCc6Z2"
      },
      "source": [
        "## Decision Tree"
      ]
    },
    {
      "cell_type": "code",
      "metadata": {
        "id": "uRz4Xkemc3gj"
      },
      "source": [
        "from pyspark.ml.regression import DecisionTreeRegressor\n",
        "\n",
        "dt = DecisionTreeRegressor(featuresCol='features', labelCol='price', maxBins=85)\n"
      ],
      "execution_count": 34,
      "outputs": []
    },
    {
      "cell_type": "code",
      "metadata": {
        "id": "UN9BCDPAhyDM"
      },
      "source": [
        "from pyspark.ml.tuning import CrossValidator, ParamGridBuilder\n",
        "from pyspark.ml.evaluation import RegressionEvaluator\n",
        "\n",
        "evaluatorR= RegressionEvaluator(labelCol='price',metricName='rmse')\n",
        "\n",
        "dt_paramGrid = ParamGridBuilder().addGrid(dt.minInstancesPerNode, [10,50,100]).addGrid(dt.maxDepth, [5,15]) .build()\n"
      ],
      "execution_count": 35,
      "outputs": []
    },
    {
      "cell_type": "code",
      "metadata": {
        "id": "2zlqrAeHd7nA",
        "colab": {
          "base_uri": "https://localhost:8080/"
        },
        "outputId": "d8e0379e-e312-4196-946b-a0479388a3d8"
      },
      "source": [
        "#create k folds with k=3.\n",
        "cv = CrossValidator(estimator=dt, estimatorParamMaps=dt_paramGrid, evaluator=evaluatorR, numFolds=3, parallelism=2, seed=2)\n",
        "\n",
        "cvModel = cv.fit(train_data)\n",
        "\n",
        "bestModel = cvModel.bestModel\n",
        "\n",
        "print(bestModel)\n",
        "print(cvModel.avgMetrics)"
      ],
      "execution_count": 36,
      "outputs": [
        {
          "output_type": "stream",
          "name": "stdout",
          "text": [
            "DecisionTreeRegressionModel: uid=DecisionTreeRegressor_e9c77a092b84, depth=15, numNodes=1283, numFeatures=9\n",
            "[48.36025734885075, 49.1233361719254, 48.35968360668758, 47.55263291305716, 48.416061685123054, 47.556376632694594]\n"
          ]
        }
      ]
    },
    {
      "cell_type": "markdown",
      "metadata": {
        "id": "Hrb0_sG3USjY"
      },
      "source": [
        "Our model seems bad but it is still better than predicting the mean price. To improve it, we can extract some key word from the description."
      ]
    }
  ]
}